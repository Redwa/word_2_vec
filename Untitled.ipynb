{
 "cells": [
  {
   "cell_type": "code",
   "execution_count": 137,
   "metadata": {
    "collapsed": true
   },
   "outputs": [],
   "source": [
    "from gensim.corpora import WikiCorpus\n",
    "from gensim.models import Word2Vec;\n",
    "from gensim.models.word2vec import LineSentence;\n",
    "import sys;\n",
    "import multiprocessing;"
   ]
  },
  {
   "cell_type": "code",
   "execution_count": 103,
   "metadata": {},
   "outputs": [],
   "source": [
    "inpt_file = './input/enwiki-latest-pages-articles.xml.bz2';\n",
    "otpt_file = './output/corpus.txt';\n",
    "\n",
    "otpt = open(otpt_file, 'wb');"
   ]
  },
  {
   "cell_type": "code",
   "execution_count": 123,
   "metadata": {
    "collapsed": true
   },
   "outputs": [],
   "source": [
    "wiki = WikiCorpus(inpt_file, lemmatize=False, dictionary={}, );"
   ]
  },
  {
   "cell_type": "code",
   "execution_count": 105,
   "metadata": {},
   "outputs": [
    {
     "name": "stdout",
     "output_type": "stream",
     "text": [
      "Completed 4320000 total texts"
     ]
    }
   ],
   "source": [
    "for pos, text in enumerate(wiki.get_texts()):\n",
    "    otpt.write((' '.join(text) + '\\n').encode('utf-8'));\n",
    "    \n",
    "    if pos % 10000 == 0:\n",
    "        sys.stdout.write('\\rCompleted ' + str(pos) + ' total texts');"
   ]
  },
  {
   "cell_type": "code",
   "execution_count": null,
   "metadata": {},
   "outputs": [],
   "source": [
    "model = Word2Vec(LineSentence(list(wiki.get_texts())), size=200, window=10, min_count=10, workers=multiprocessing.cpu_count());"
   ]
  },
  {
   "cell_type": "code",
   "execution_count": 129,
   "metadata": {},
   "outputs": [],
   "source": [
    "wiki.input = inpt;"
   ]
  },
  {
   "cell_type": "code",
   "execution_count": null,
   "metadata": {
    "collapsed": true
   },
   "outputs": [],
   "source": []
  }
 ],
 "metadata": {
  "kernelspec": {
   "display_name": "Python 3",
   "language": "python",
   "name": "python3"
  },
  "language_info": {
   "codemirror_mode": {
    "name": "ipython",
    "version": 3
   },
   "file_extension": ".py",
   "mimetype": "text/x-python",
   "name": "python",
   "nbconvert_exporter": "python",
   "pygments_lexer": "ipython3",
   "version": "3.6.1"
  }
 },
 "nbformat": 4,
 "nbformat_minor": 2
}
